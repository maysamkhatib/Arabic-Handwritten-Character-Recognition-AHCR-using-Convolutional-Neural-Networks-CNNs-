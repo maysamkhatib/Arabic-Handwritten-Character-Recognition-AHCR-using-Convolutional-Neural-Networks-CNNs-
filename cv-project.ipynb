{
 "cells": [
  {
   "cell_type": "markdown",
   "id": "452b75a3",
   "metadata": {
    "id": "6UuaWoerwSAi",
    "papermill": {
     "duration": 0.010894,
     "end_time": "2024-01-27T15:09:41.397553",
     "exception": false,
     "start_time": "2024-01-27T15:09:41.386659",
     "status": "completed"
    },
    "tags": []
   },
   "source": [
    "<p align=\"center\">\n",
    "<img alt=\"logo\" src=\"https://upload.wikimedia.org/wikipedia/ar/thumb/1/16/Birzeit_University_logo.svg/320px-Birzeit_University_logo.svg.png\"/>\n",
    "<br>\n",
    "Faculty of Engineering and Technology<br>\n",
    "Electrical and Computer Engineering Department<br></p>\n",
    "<hr>\n",
    "<hr>\n",
    "<p align=\"center\">\n",
    "ENCS5343 Computer Vision<br>\n",
    "<br>\n",
    "<b>Course Project</b><br>\n",
    "<b>Arabic Handwritten Character Recognition (AHCR)</b><br>\n",
    "<br>\n",
    "Student Name: Maysam Khatib<br>\n",
    "Student ID: 1190207<br>\n",
    "Student Name: Ameer Zedany<br>\n",
    "Student ID: 1190482\n",
    "</p>\n",
    "<hr>"
   ]
  },
  {
   "cell_type": "markdown",
   "id": "e17d9339",
   "metadata": {
    "id": "4VyLcP5W0TW_",
    "papermill": {
     "duration": 0.010011,
     "end_time": "2024-01-27T15:09:41.418050",
     "exception": false,
     "start_time": "2024-01-27T15:09:41.408039",
     "status": "completed"
    },
    "tags": []
   },
   "source": [
    "# **Introduction**"
   ]
  },
  {
   "cell_type": "markdown",
   "id": "4e3b2843",
   "metadata": {
    "id": "NYuZOQ8W0cTH",
    "papermill": {
     "duration": 0.00993,
     "end_time": "2024-01-27T15:09:41.438087",
     "exception": false,
     "start_time": "2024-01-27T15:09:41.428157",
     "status": "completed"
    },
    "tags": []
   },
   "source": [
    "# **Tasks**"
   ]
  },
  {
   "cell_type": "markdown",
   "id": "e8391b6b",
   "metadata": {
    "id": "pnlpKkLh_xNb",
    "papermill": {
     "duration": 0.010781,
     "end_time": "2024-01-27T15:09:41.459026",
     "exception": false,
     "start_time": "2024-01-27T15:09:41.448245",
     "status": "completed"
    },
    "tags": []
   },
   "source": [
    "## **Import Libraries**"
   ]
  },
  {
   "cell_type": "code",
   "execution_count": 1,
   "id": "2bed13a4",
   "metadata": {
    "execution": {
     "iopub.execute_input": "2024-01-27T15:09:41.480602Z",
     "iopub.status.busy": "2024-01-27T15:09:41.480279Z",
     "iopub.status.idle": "2024-01-27T15:10:10.199270Z",
     "shell.execute_reply": "2024-01-27T15:10:10.198032Z"
    },
    "papermill": {
     "duration": 28.732567,
     "end_time": "2024-01-27T15:10:10.201709",
     "exception": false,
     "start_time": "2024-01-27T15:09:41.469142",
     "status": "completed"
    },
    "tags": []
   },
   "outputs": [
    {
     "name": "stdout",
     "output_type": "stream",
     "text": [
      "Collecting gdown\r\n",
      "  Obtaining dependency information for gdown from https://files.pythonhosted.org/packages/9e/db/c5dad38733f0995dea4480de38df1b3f6222b77b0dc89aad2402d86e2ff4/gdown-5.0.1-py3-none-any.whl.metadata\r\n",
      "  Downloading gdown-5.0.1-py3-none-any.whl.metadata (5.6 kB)\r\n",
      "Requirement already satisfied: beautifulsoup4 in /opt/conda/lib/python3.10/site-packages (from gdown) (4.12.2)\r\n",
      "Requirement already satisfied: filelock in /opt/conda/lib/python3.10/site-packages (from gdown) (3.12.2)\r\n",
      "Requirement already satisfied: requests[socks] in /opt/conda/lib/python3.10/site-packages (from gdown) (2.31.0)\r\n",
      "Requirement already satisfied: tqdm in /opt/conda/lib/python3.10/site-packages (from gdown) (4.66.1)\r\n",
      "Requirement already satisfied: soupsieve>1.2 in /opt/conda/lib/python3.10/site-packages (from beautifulsoup4->gdown) (2.3.2.post1)\r\n",
      "Requirement already satisfied: charset-normalizer<4,>=2 in /opt/conda/lib/python3.10/site-packages (from requests[socks]->gdown) (3.2.0)\r\n",
      "Requirement already satisfied: idna<4,>=2.5 in /opt/conda/lib/python3.10/site-packages (from requests[socks]->gdown) (3.4)\r\n",
      "Requirement already satisfied: urllib3<3,>=1.21.1 in /opt/conda/lib/python3.10/site-packages (from requests[socks]->gdown) (1.26.15)\r\n",
      "Requirement already satisfied: certifi>=2017.4.17 in /opt/conda/lib/python3.10/site-packages (from requests[socks]->gdown) (2023.11.17)\r\n",
      "Requirement already satisfied: PySocks!=1.5.7,>=1.5.6 in /opt/conda/lib/python3.10/site-packages (from requests[socks]->gdown) (1.7.1)\r\n",
      "Downloading gdown-5.0.1-py3-none-any.whl (16 kB)\r\n",
      "Installing collected packages: gdown\r\n",
      "Successfully installed gdown-5.0.1\r\n",
      "Collecting numpy==1.23.0\r\n",
      "  Downloading numpy-1.23.0-cp310-cp310-manylinux_2_17_x86_64.manylinux2014_x86_64.whl (17.0 MB)\r\n",
      "\u001b[2K     \u001b[90m━━━━━━━━━━━━━━━━━━━━━━━━━━━━━━━━━━━━━━━━\u001b[0m \u001b[32m17.0/17.0 MB\u001b[0m \u001b[31m52.1 MB/s\u001b[0m eta \u001b[36m0:00:00\u001b[0m\r\n",
      "\u001b[?25hInstalling collected packages: numpy\r\n",
      "  Attempting uninstall: numpy\r\n",
      "    Found existing installation: numpy 1.24.3\r\n",
      "    Uninstalling numpy-1.24.3:\r\n",
      "      Successfully uninstalled numpy-1.24.3\r\n",
      "\u001b[31mERROR: pip's dependency resolver does not currently take into account all the packages that are installed. This behaviour is the source of the following dependency conflicts.\r\n",
      "cudf 23.8.0 requires cupy-cuda11x>=12.0.0, which is not installed.\r\n",
      "cuml 23.8.0 requires cupy-cuda11x>=12.0.0, which is not installed.\r\n",
      "dask-cudf 23.8.0 requires cupy-cuda11x>=12.0.0, which is not installed.\r\n",
      "apache-beam 2.46.0 requires dill<0.3.2,>=0.3.1.1, but you have dill 0.3.7 which is incompatible.\r\n",
      "apache-beam 2.46.0 requires pyarrow<10.0.0,>=3.0.0, but you have pyarrow 11.0.0 which is incompatible.\r\n",
      "chex 0.1.85 requires numpy>=1.24.1, but you have numpy 1.23.0 which is incompatible.\r\n",
      "cudf 23.8.0 requires pandas<1.6.0dev0,>=1.3, but you have pandas 2.0.3 which is incompatible.\r\n",
      "cudf 23.8.0 requires protobuf<5,>=4.21, but you have protobuf 3.20.3 which is incompatible.\r\n",
      "cuml 23.8.0 requires dask==2023.7.1, but you have dask 2023.12.1 which is incompatible.\r\n",
      "cuml 23.8.0 requires distributed==2023.7.1, but you have distributed 2023.12.1 which is incompatible.\r\n",
      "dask-cuda 23.8.0 requires dask==2023.7.1, but you have dask 2023.12.1 which is incompatible.\r\n",
      "dask-cuda 23.8.0 requires distributed==2023.7.1, but you have distributed 2023.12.1 which is incompatible.\r\n",
      "dask-cuda 23.8.0 requires pandas<1.6.0dev0,>=1.3, but you have pandas 2.0.3 which is incompatible.\r\n",
      "dask-cudf 23.8.0 requires dask==2023.7.1, but you have dask 2023.12.1 which is incompatible.\r\n",
      "dask-cudf 23.8.0 requires distributed==2023.7.1, but you have distributed 2023.12.1 which is incompatible.\r\n",
      "dask-cudf 23.8.0 requires pandas<1.6.0dev0,>=1.3, but you have pandas 2.0.3 which is incompatible.\r\n",
      "libpysal 4.9.2 requires packaging>=22, but you have packaging 21.3 which is incompatible.\r\n",
      "libpysal 4.9.2 requires shapely>=2.0.1, but you have shapely 1.8.5.post1 which is incompatible.\r\n",
      "momepy 0.7.0 requires shapely>=2, but you have shapely 1.8.5.post1 which is incompatible.\r\n",
      "pymc3 3.11.5 requires numpy<1.22.2,>=1.15.0, but you have numpy 1.23.0 which is incompatible.\r\n",
      "pymc3 3.11.5 requires scipy<1.8.0,>=1.7.3, but you have scipy 1.11.4 which is incompatible.\r\n",
      "raft-dask 23.8.0 requires dask==2023.7.1, but you have dask 2023.12.1 which is incompatible.\r\n",
      "raft-dask 23.8.0 requires distributed==2023.7.1, but you have distributed 2023.12.1 which is incompatible.\r\n",
      "spopt 0.6.0 requires shapely>=2.0.1, but you have shapely 1.8.5.post1 which is incompatible.\r\n",
      "tensorflowjs 4.15.0 requires packaging~=23.1, but you have packaging 21.3 which is incompatible.\u001b[0m\u001b[31m\r\n",
      "\u001b[0mSuccessfully installed numpy-1.23.0\r\n"
     ]
    }
   ],
   "source": [
    "!pip install gdown\n",
    "!pip install numpy==1.23.0"
   ]
  },
  {
   "cell_type": "code",
   "execution_count": 2,
   "id": "1052ec80",
   "metadata": {
    "execution": {
     "iopub.execute_input": "2024-01-27T15:10:10.227538Z",
     "iopub.status.busy": "2024-01-27T15:10:10.227249Z",
     "iopub.status.idle": "2024-01-27T15:10:22.818844Z",
     "shell.execute_reply": "2024-01-27T15:10:22.818037Z"
    },
    "id": "qflRN1HG_aDS",
    "papermill": {
     "duration": 12.606934,
     "end_time": "2024-01-27T15:10:22.821214",
     "exception": false,
     "start_time": "2024-01-27T15:10:10.214280",
     "status": "completed"
    },
    "tags": []
   },
   "outputs": [
    {
     "name": "stderr",
     "output_type": "stream",
     "text": [
      "/opt/conda/lib/python3.10/site-packages/scipy/__init__.py:146: UserWarning: A NumPy version >=1.16.5 and <1.23.0 is required for this version of SciPy (detected version 1.24.3\n",
      "  warnings.warn(f\"A NumPy version >={np_minversion} and <{np_maxversion}\"\n"
     ]
    }
   ],
   "source": [
    "# Import needed library in the project\n",
    "import numpy as np\n",
    "import pandas as pd\n",
    "import matplotlib.pyplot as plt\n",
    "\n",
    "# Libraries to deal with the dataset\n",
    "import os # for dealing with files and directories (used to download the dataset)\n",
    "from zipfile import ZipFile # to unzip the dataset zipped file\n",
    "import gdown\n",
    "import random # to get random images to display\n",
    "# Tensorflow\n",
    "import tensorflow as tf\n",
    "from tensorflow import keras\n",
    "from sklearn.model_selection import GridSearchCV ,train_test_split\n",
    "from sklearn.base import clone\n",
    "#from tensorflow.keras.wrappers.scikit_learn import KerasClassifier\n",
    "from keras import layers, models\n",
    "from keras.callbacks import EarlyStopping\n",
    "from keras.models import Sequential\n",
    "from keras.layers import Conv2D, MaxPooling2D, Flatten, Dense, Dropout ,Input\n",
    "from keras.preprocessing.image import ImageDataGenerator\n",
    "from keras.applications.vgg16 import VGG16\n"
   ]
  },
  {
   "cell_type": "markdown",
   "id": "a4d2ef75",
   "metadata": {
    "id": "bPnFVQ5i_-IA",
    "papermill": {
     "duration": 0.011672,
     "end_time": "2024-01-27T15:10:22.845194",
     "exception": false,
     "start_time": "2024-01-27T15:10:22.833522",
     "status": "completed"
    },
    "tags": []
   },
   "source": [
    "## **Dataset**"
   ]
  },
  {
   "cell_type": "markdown",
   "id": "feb651d8",
   "metadata": {
    "id": "hfmDc9bffspp",
    "papermill": {
     "duration": 0.011738,
     "end_time": "2024-01-27T15:10:22.868790",
     "exception": false,
     "start_time": "2024-01-27T15:10:22.857052",
     "status": "completed"
    },
    "tags": []
   },
   "source": [
    "### **Download Dataset**"
   ]
  },
  {
   "cell_type": "code",
   "execution_count": 3,
   "id": "692d0a53",
   "metadata": {
    "execution": {
     "iopub.execute_input": "2024-01-27T15:10:22.894425Z",
     "iopub.status.busy": "2024-01-27T15:10:22.893855Z",
     "iopub.status.idle": "2024-01-27T15:10:58.515768Z",
     "shell.execute_reply": "2024-01-27T15:10:58.514954Z"
    },
    "id": "Cut8bEw_AGXI",
    "outputId": "a593a465-1f23-47a1-aa40-3267961d863b",
    "papermill": {
     "duration": 35.637421,
     "end_time": "2024-01-27T15:10:58.518029",
     "exception": false,
     "start_time": "2024-01-27T15:10:22.880608",
     "status": "completed"
    },
    "tags": []
   },
   "outputs": [
    {
     "name": "stderr",
     "output_type": "stream",
     "text": [
      "Downloading...\n",
      "From: https://drive.google.com/u/0/uc?id=1ZQ8fSD6WgkXFBKIxMRBMn0-gTwzFjUvz\n",
      "To: /kaggle/working/project_dataset.zip\n",
      "100%|██████████| 25.2M/25.2M [00:01<00:00, 22.1MB/s]\n"
     ]
    }
   ],
   "source": [
    "# download the dataset from the link\n",
    "file_id = '1ZQ8fSD6WgkXFBKIxMRBMn0-gTwzFjUvz'\n",
    "download_link = f'https://drive.google.com/u/0/uc?id={file_id}'\n",
    "zip_file_name = 'project_dataset.zip'\n",
    "\n",
    "# check if the dataset folder is existed (to not download it again)\n",
    "dataset_folder_name = 'dataset'\n",
    "if not os.path.exists(dataset_folder_name) or not any(os.scandir(dataset_folder_name)):\n",
    "\n",
    "  # check if the zip file is existed\n",
    "  if not os.path.exists(zip_file_name):\n",
    "    with open(zip_file_name, 'wb') as zip_file:\n",
    "      gdown.download(download_link, zip_file_name, quiet=False)\n",
    "\n",
    "  # make the dataset folder\n",
    "  os.makedirs(dataset_folder_name, exist_ok=True)\n",
    "\n",
    "  # unzip the zipped file\n",
    "  with ZipFile(zip_file_name, 'r') as zip_ref:\n",
    "    zip_ref.extractall(dataset_folder_name)\n",
    "\n",
    "  # Remove the zipped file after extraction\n",
    "  os.remove(zip_file_name)\n",
    "else:\n",
    "    print(\"Dataset is already existed\")"
   ]
  },
  {
   "cell_type": "markdown",
   "id": "130072ec",
   "metadata": {
    "id": "NaBS_Vqpf7vR",
    "papermill": {
     "duration": 0.01247,
     "end_time": "2024-01-27T15:10:58.543283",
     "exception": false,
     "start_time": "2024-01-27T15:10:58.530813",
     "status": "completed"
    },
    "tags": []
   },
   "source": [
    "### **Discover Dataset Content**"
   ]
  },
  {
   "cell_type": "code",
   "execution_count": 4,
   "id": "eb99b58d",
   "metadata": {
    "execution": {
     "iopub.execute_input": "2024-01-27T15:10:58.569930Z",
     "iopub.status.busy": "2024-01-27T15:10:58.569319Z",
     "iopub.status.idle": "2024-01-27T15:10:58.574801Z",
     "shell.execute_reply": "2024-01-27T15:10:58.573886Z"
    },
    "id": "lKr2mHx7MDZB",
    "outputId": "720dbb0e-dcaf-4858-ff0e-124d4c73280b",
    "papermill": {
     "duration": 0.021234,
     "end_time": "2024-01-27T15:10:58.576866",
     "exception": false,
     "start_time": "2024-01-27T15:10:58.555632",
     "status": "completed"
    },
    "tags": []
   },
   "outputs": [
    {
     "name": "stdout",
     "output_type": "stream",
     "text": [
      "Contents of the dataset folder:\n",
      "csvTrainLabel 13440x1.csv\n",
      "train images 13440x32x32\n",
      "Train+Test Images Matlab.mat\n",
      "Test Images 3360x32x32\n",
      "test images 3360x32x32\n",
      "arabic handwritten characters dataset csv\n",
      "csvTestLabel 3360x1.csv\n",
      "csvTrainImages 13440x1024.csv\n",
      "Train Images 13440x32x32\n",
      "Arabic Handwritten Characters Dataset CSV\n",
      "csvTestImages 3360x1024.csv\n"
     ]
    }
   ],
   "source": [
    "print(\"Contents of the dataset folder:\")\n",
    "for item in os.listdir(dataset_folder_name):\n",
    "    print(item)"
   ]
  },
  {
   "cell_type": "markdown",
   "id": "a7177320",
   "metadata": {
    "id": "UqnjmZN9ggIB",
    "papermill": {
     "duration": 0.013738,
     "end_time": "2024-01-27T15:10:58.602933",
     "exception": false,
     "start_time": "2024-01-27T15:10:58.589195",
     "status": "completed"
    },
    "tags": []
   },
   "source": [
    "### **Data Loading and Preprocessing**"
   ]
  },
  {
   "cell_type": "code",
   "execution_count": 5,
   "id": "135ba44a",
   "metadata": {
    "execution": {
     "iopub.execute_input": "2024-01-27T15:10:58.629500Z",
     "iopub.status.busy": "2024-01-27T15:10:58.628966Z",
     "iopub.status.idle": "2024-01-27T15:11:00.045432Z",
     "shell.execute_reply": "2024-01-27T15:11:00.044665Z"
    },
    "id": "mrX08ZnHQ-1A",
    "papermill": {
     "duration": 1.432441,
     "end_time": "2024-01-27T15:11:00.047790",
     "exception": false,
     "start_time": "2024-01-27T15:10:58.615349",
     "status": "completed"
    },
    "tags": []
   },
   "outputs": [],
   "source": [
    "# load the train lables and put them in one dimensional array\n",
    "train_labels_path = f'{dataset_folder_name}/csvTrainLabel 13440x1.csv'\n",
    "train_labels = pd.read_csv(train_labels_path, header=None).to_numpy().reshape(-1)\n",
    "train_labels = train_labels - 1\n",
    "\n",
    "# load the test lables and put them in one dimensional array\n",
    "test_labels_path = f'{dataset_folder_name}/csvTestLabel 3360x1.csv'\n",
    "test_labels = pd.read_csv(test_labels_path, header=None).to_numpy().reshape(-1)\n",
    "test_labels = test_labels - 1\n",
    "\n",
    "# load the train images and put them in 4 dimensional array (images with 32x32 pixels and a single grayscale channel)\n",
    "train_images_path = f'{dataset_folder_name}/csvTrainImages 13440x1024.csv'\n",
    "train_images = pd.read_csv(train_images_path, header=None).to_numpy().reshape(-1, 32, 32, 1)\n",
    "train_images = train_images / 255.0 # normalize\n",
    "\n",
    "# load the test images in 4 dimensional array (images with 32x32 pixels and a single grayscale channel)\n",
    "test_images_path = f'{dataset_folder_name}/csvTestImages 3360x1024.csv'\n",
    "test_images = pd.read_csv(test_images_path, header=None).to_numpy().reshape(-1, 32, 32, 1)\n",
    "test_images = test_images / 255.0 # normalize"
   ]
  },
  {
   "cell_type": "markdown",
   "id": "90ca7016",
   "metadata": {
    "id": "adt6IbjjgmCg",
    "papermill": {
     "duration": 0.052039,
     "end_time": "2024-01-27T15:11:00.112790",
     "exception": false,
     "start_time": "2024-01-27T15:11:00.060751",
     "status": "completed"
    },
    "tags": []
   },
   "source": [
    "### **Prining Data Information**"
   ]
  },
  {
   "cell_type": "code",
   "execution_count": 6,
   "id": "749361bd",
   "metadata": {
    "execution": {
     "iopub.execute_input": "2024-01-27T15:11:00.139247Z",
     "iopub.status.busy": "2024-01-27T15:11:00.138890Z",
     "iopub.status.idle": "2024-01-27T15:11:00.147327Z",
     "shell.execute_reply": "2024-01-27T15:11:00.146304Z"
    },
    "id": "Cn0a0QZFWHmS",
    "outputId": "219788c5-0ecb-4cef-9156-53d122fa58e7",
    "papermill": {
     "duration": 0.023958,
     "end_time": "2024-01-27T15:11:00.149264",
     "exception": false,
     "start_time": "2024-01-27T15:11:00.125306",
     "status": "completed"
    },
    "tags": []
   },
   "outputs": [
    {
     "name": "stdout",
     "output_type": "stream",
     "text": [
      "*************************************\n",
      "Training set:\n",
      "Number of samples: 13440\n",
      "Number of features (pixels): 1024\n",
      "Image shape: (32, 32, 1)\n",
      "Number of classes: 28\n",
      "\n",
      "*************************************\n",
      "Testing set:\n",
      "Number of samples: 3360\n",
      "Number of features (pixels): 1024\n",
      "Image shape: (32, 32, 1)\n",
      "Number of classes: 28\n"
     ]
    }
   ],
   "source": [
    "# print some dataset information\n",
    "print('*************************************')\n",
    "print('Training set:')\n",
    "print('Number of samples:', train_images.shape[0])\n",
    "print('Number of features (pixels):', train_images.shape[1] * train_images.shape[2])\n",
    "print('Image shape:', train_images.shape[1:])\n",
    "print('Number of classes:', len(np.unique(train_labels)))\n",
    "\n",
    "print('\\n*************************************')\n",
    "print('Testing set:')\n",
    "print('Number of samples:', test_images.shape[0])\n",
    "print('Number of features (pixels):', test_images.shape[1] * test_images.shape[2])\n",
    "print('Image shape:', test_images.shape[1:])\n",
    "print('Number of classes:', len(np.unique(test_labels)))\n"
   ]
  },
  {
   "cell_type": "markdown",
   "id": "0938ae33",
   "metadata": {
    "id": "L4C9KRMNg9W7",
    "papermill": {
     "duration": 0.012325,
     "end_time": "2024-01-27T15:11:00.174112",
     "exception": false,
     "start_time": "2024-01-27T15:11:00.161787",
     "status": "completed"
    },
    "tags": []
   },
   "source": [
    "### **Display Random Training Images**"
   ]
  },
  {
   "cell_type": "code",
   "execution_count": 7,
   "id": "a57a7fe3",
   "metadata": {
    "execution": {
     "iopub.execute_input": "2024-01-27T15:11:00.200499Z",
     "iopub.status.busy": "2024-01-27T15:11:00.199998Z",
     "iopub.status.idle": "2024-01-27T15:11:01.657752Z",
     "shell.execute_reply": "2024-01-27T15:11:01.656842Z"
    },
    "id": "_8OLIbIqNVD4",
    "outputId": "7bfb00e7-3d46-4780-9c43-a1fbd7cf8529",
    "papermill": {
     "duration": 1.473163,
     "end_time": "2024-01-27T15:11:01.659748",
     "exception": false,
     "start_time": "2024-01-27T15:11:00.186585",
     "status": "completed"
    },
    "tags": []
   },
   "outputs": [
    {
     "data": {
      "image/png": "[encoded data removed]",
      "text/plain": [
       "<Figure size 1200x500 with 21 Axes>"
      ]
     },
     "metadata": {},
     "output_type": "display_data"
    }
   ],
   "source": [
    "# choose 8 random images from the training dataset\n",
    "random_indices = np.random.choice(train_images.shape[0], 21, replace=False)\n",
    "\n",
    "fig, axes = plt.subplots(3, 7, figsize=(12, 5))\n",
    "\n",
    "# plot the images with their labels\n",
    "for i, ax in enumerate(axes.flat):\n",
    "    image = train_images[random_indices[i]]\n",
    "    image = np.rot90(image, axes=(0, 1))\n",
    "    label = train_labels[random_indices[i]]\n",
    "    ax.imshow(image, cmap='gray', origin='lower')\n",
    "    ax.set_title(f\"Label: {label+1}\")\n",
    "    ax.axis('off')\n",
    "\n",
    "plt.tight_layout()\n",
    "plt.show()"
   ]
  },
  {
   "cell_type": "markdown",
   "id": "2afe2008",
   "metadata": {
    "id": "H3T_JcHWWBgY",
    "papermill": {
     "duration": 0.012988,
     "end_time": "2024-01-27T15:11:01.686120",
     "exception": false,
     "start_time": "2024-01-27T15:11:01.673132",
     "status": "completed"
    },
    "tags": []
   },
   "source": [
    "## **Plotting Function**\n"
   ]
  },
  {
   "cell_type": "code",
   "execution_count": 8,
   "id": "e4ef806c",
   "metadata": {
    "execution": {
     "iopub.execute_input": "2024-01-27T15:11:01.713427Z",
     "iopub.status.busy": "2024-01-27T15:11:01.713107Z",
     "iopub.status.idle": "2024-01-27T15:11:01.720213Z",
     "shell.execute_reply": "2024-01-27T15:11:01.719365Z"
    },
    "id": "7JnxYbpKWG0C",
    "papermill": {
     "duration": 0.022996,
     "end_time": "2024-01-27T15:11:01.722124",
     "exception": false,
     "start_time": "2024-01-27T15:11:01.699128",
     "status": "completed"
    },
    "tags": []
   },
   "outputs": [],
   "source": [
    "def plotAccuracyLossVsEpochs(history):\n",
    "\n",
    "  training_metrics = [history.history['accuracy'], history.history['loss']]\n",
    "  testing_metrics =  [history.history['val_accuracy'], history.history['val_loss']]\n",
    "  titles = ['Accuracy', 'Loss']\n",
    "\n",
    "  plt.figure(figsize=(12, 5))\n",
    "\n",
    "  for i in range(0, 2):\n",
    "    plt.subplot(1, 2, i+1)\n",
    "    plt.plot(training_metrics[i])\n",
    "    plt.plot(testing_metrics[i])\n",
    "    plt.title(f'{titles[i]} vs Epochs')\n",
    "    plt.xlabel('Epoch')\n",
    "    plt.ylabel(titles[i])\n",
    "    plt.legend(['Train', 'Validation'], loc='upper left')\n",
    "\n",
    "  plt.tight_layout()\n",
    "  plt.show()"
   ]
  },
  {
   "cell_type": "markdown",
   "id": "b7bae7db",
   "metadata": {
    "id": "Bjwmk4-y0kQP",
    "papermill": {
     "duration": 0.012952,
     "end_time": "2024-01-27T15:11:01.748054",
     "exception": false,
     "start_time": "2024-01-27T15:11:01.735102",
     "status": "completed"
    },
    "tags": []
   },
   "source": [
    "## **Task 1**\n"
   ]
  },
  {
   "cell_type": "markdown",
   "id": "1e2054b5",
   "metadata": {
    "id": "O7yQLJJa0rVR",
    "papermill": {
     "duration": 0.014094,
     "end_time": "2024-01-27T15:11:01.776099",
     "exception": false,
     "start_time": "2024-01-27T15:11:01.762005",
     "status": "completed"
    },
    "tags": []
   },
   "source": [
    "Build and train a custom CNN network for AHCR. To build a custom CNN, you need to define the following:\n",
    "\n",
    "● Architecture:\n",
    "*   Number of layers: The depth of the network, typically starting with 1 to 2 convolutional layers and gradually increasing for more complex tasks.\n",
    "*   Types of layers: convolutional layers, pooling layers (max, average, global), fully connected layers, and potentially other specialized layers (e.g., dropout, batch normalization).\n",
    "*   Activation functions: ReLU (common choice), sigmoid, tanh, or others for specific needs.\n",
    "\n",
    "● Convolutional Layer Parameters:\n",
    "* Number of filters: controls the number of feature maps extracted at each layer. More filters can capture more features but increase computational costs.\n",
    "* Filter size: determines the receptive field of the filters, often starting with 3x3 or 5x5 and increasing in deeper layers.\n",
    "* Stride: The step size of the filter movement affects the output size and computational complexity.\n",
    "* Padding: zero-padding input images to preserve spatial dimensions and capture edge features.\n",
    "\n",
    "● Pooling Layer Parameters:\n",
    "* Pool size: The size of the pooling window, common choices being 2x2 or 3x3.\n",
    "* Pool type: max pooling or average pooling, each with different effects on feature preservation.\n",
    "\n",
    "● Fully Connected Layer Parameters:\n",
    "* Number of neurons: related to the complexity of the task and the number of classes for classification.\n",
    "\n",
    "● Training Hyperparameters:\n",
    "* Learning rate: controls how much the model's weights are updated during training.\n",
    "* Batch size: the number of samples processed per training step, affecting gradient updates and convergence speed.\n",
    "* Epochs: The number of times the model trains on the entire dataset.\n",
    "* Optimizer: algorithm for updating model weights (e.g., Adam, SGD, RMSprop).\n",
    "* Overfitting Handling: Techniques to prevent overfitting (e.g., dropout, L1/L2\n",
    "regularization)."
   ]
  },
  {
   "cell_type": "markdown",
   "id": "efbefd4f",
   "metadata": {
    "id": "Mpsa5VCchJI6",
    "papermill": {
     "duration": 0.012866,
     "end_time": "2024-01-27T15:11:01.802067",
     "exception": false,
     "start_time": "2024-01-27T15:11:01.789201",
     "status": "completed"
    },
    "tags": []
   },
   "source": [
    "### **Build AHCR CNN Model**"
   ]
  },
  {
   "cell_type": "code",
   "execution_count": 9,
   "id": "d20882d9",
   "metadata": {
    "execution": {
     "iopub.execute_input": "2024-01-27T15:11:01.830284Z",
     "iopub.status.busy": "2024-01-27T15:11:01.829446Z",
     "iopub.status.idle": "2024-01-27T15:11:01.838146Z",
     "shell.execute_reply": "2024-01-27T15:11:01.837451Z"
    },
    "id": "KbWnYr9Ov30T",
    "papermill": {
     "duration": 0.024924,
     "end_time": "2024-01-27T15:11:01.840055",
     "exception": false,
     "start_time": "2024-01-27T15:11:01.815131",
     "status": "completed"
    },
    "tags": []
   },
   "outputs": [],
   "source": [
    "def build_ahcr_cnn_model():\n",
    "\n",
    "  # initialize the model\n",
    "  model = models.Sequential()\n",
    "\n",
    "  # create the layers\n",
    "  layer1_conv = layers.Conv2D(filters=32, kernel_size=(3, 3), activation='relu', input_shape=(32, 32, 1))\n",
    "  layer2_pool = layers.MaxPooling2D(pool_size=(2, 2))\n",
    "\n",
    "  layer3_conv = layers.Conv2D(filters=64, kernel_size=(3, 3), activation='tanh')\n",
    "  layer4_pool = layers.MaxPooling2D(pool_size=(2, 2))\n",
    "\n",
    "  layer5_dropout = layers.Dropout(0.25)\n",
    "\n",
    "  layer6_flat = layers.Flatten()\n",
    "\n",
    "  layer7_fc = layers.Dense(units=64, activation='relu')\n",
    "  layer8_dropout = layers.Dropout(0.5)\n",
    "\n",
    "  layer9_fc_out = layers.Dense(units=28, activation='softmax')\n",
    "\n",
    "  # add the layers to the model\n",
    "  model.add(layer1_conv)\n",
    "  model.add(layer2_pool)\n",
    "  model.add(layer3_conv)\n",
    "  model.add(layer4_pool)\n",
    "  model.add(layer5_dropout)\n",
    "  model.add(layer6_flat)\n",
    "  model.add(layer7_fc)\n",
    "  model.add(layer8_dropout)\n",
    "  model.add(layer9_fc_out)\n",
    "\n",
    "  # combile the model\n",
    "  model.compile(optimizer='adam', loss='sparse_categorical_crossentropy', metrics=['accuracy'])\n",
    "\n",
    "  return model"
   ]
  },
  {
   "cell_type": "code",
   "execution_count": 10,
   "id": "3e3d6591",
   "metadata": {
    "execution": {
     "iopub.execute_input": "2024-01-27T15:11:01.867540Z",
     "iopub.status.busy": "2024-01-27T15:11:01.867050Z",
     "iopub.status.idle": "2024-01-27T15:11:02.903537Z",
     "shell.execute_reply": "2024-01-27T15:11:02.902539Z"
    },
    "id": "w6gnlJv60oWw",
    "outputId": "5ea8dced-0b59-4016-b3f0-caf348a8d856",
    "papermill": {
     "duration": 1.060725,
     "end_time": "2024-01-27T15:11:02.913818",
     "exception": false,
     "start_time": "2024-01-27T15:11:01.853093",
     "status": "completed"
    },
    "tags": []
   },
   "outputs": [
    {
     "name": "stdout",
     "output_type": "stream",
     "text": [
      "Model: \"sequential\"\n",
      "_________________________________________________________________\n",
      " Layer (type)                Output Shape              Param #   \n",
      "=================================================================\n",
      " conv2d (Conv2D)             (None, 30, 30, 32)        320       \n",
      "                                                                 \n",
      " max_pooling2d (MaxPooling2  (None, 15, 15, 32)        0         \n",
      " D)                                                              \n",
      "                                                                 \n",
      " conv2d_1 (Conv2D)           (None, 13, 13, 64)        18496     \n",
      "                                                                 \n",
      " max_pooling2d_1 (MaxPoolin  (None, 6, 6, 64)          0         \n",
      " g2D)                                                            \n",
      "                                                                 \n",
      " dropout (Dropout)           (None, 6, 6, 64)          0         \n",
      "                                                                 \n",
      " flatten (Flatten)           (None, 2304)              0         \n",
      "                                                                 \n",
      " dense (Dense)               (None, 64)                147520    \n",
      "                                                                 \n",
      " dropout_1 (Dropout)         (None, 64)                0         \n",
      "                                                                 \n",
      " dense_1 (Dense)             (None, 28)                1820      \n",
      "                                                                 \n",
      "=================================================================\n",
      "Total params: 168156 (656.86 KB)\n",
      "Trainable params: 168156 (656.86 KB)\n",
      "Non-trainable params: 0 (0.00 Byte)\n",
      "_________________________________________________________________\n"
     ]
    }
   ],
   "source": [
    "ahcr_model = build_ahcr_cnn_model()\n",
    "\n",
    "ahcr_model.summary()"
   ]
  },
  {
   "cell_type": "code",
   "execution_count": 11,
   "id": "864eb218",
   "metadata": {
    "execution": {
     "iopub.execute_input": "2024-01-27T15:11:02.945802Z",
     "iopub.status.busy": "2024-01-27T15:11:02.945502Z",
     "iopub.status.idle": "2024-01-27T15:11:14.460999Z",
     "shell.execute_reply": "2024-01-27T15:11:14.460154Z"
    },
    "id": "OnxrfjZWVszA",
    "outputId": "35c95252-f46b-4a6d-c5e5-8a913e9c74e1",
    "papermill": {
     "duration": 11.533662,
     "end_time": "2024-01-27T15:11:14.462987",
     "exception": false,
     "start_time": "2024-01-27T15:11:02.929325",
     "status": "completed"
    },
    "tags": []
   },
   "outputs": [
    {
     "name": "stdout",
     "output_type": "stream",
     "text": [
      "Epoch 1/25\n"
     ]
    },
    {
     "name": "stderr",
     "output_type": "stream",
     "text": [
      "2024-01-27 15:11:04.140234: E tensorflow/core/grappler/optimizers/meta_optimizer.cc:954] layout failed: INVALID_ARGUMENT: Size of values 0 does not match size of permutation 4 @ fanin shape insequential/dropout/dropout/SelectV2-2-TransposeNHWCToNCHW-LayoutOptimizer\n"
     ]
    },
    {
     "name": "stdout",
     "output_type": "stream",
     "text": [
      "27/27 [==============================] - 4s 25ms/step - loss: 3.0995 - accuracy: 0.1115 - val_loss: 2.6233 - val_accuracy: 0.2991\n",
      "Epoch 2/25\n",
      "27/27 [==============================] - 0s 10ms/step - loss: 2.5926 - accuracy: 0.2370 - val_loss: 2.0407 - val_accuracy: 0.4470\n",
      "Epoch 3/25\n",
      "27/27 [==============================] - 0s 10ms/step - loss: 2.1678 - accuracy: 0.3379 - val_loss: 1.5791 - val_accuracy: 0.5557\n",
      "Epoch 4/25\n",
      "27/27 [==============================] - 0s 10ms/step - loss: 1.8441 - accuracy: 0.4209 - val_loss: 1.3002 - val_accuracy: 0.6405\n",
      "Epoch 5/25\n",
      "27/27 [==============================] - 0s 10ms/step - loss: 1.5996 - accuracy: 0.4879 - val_loss: 1.1019 - val_accuracy: 0.6905\n",
      "Epoch 6/25\n",
      "27/27 [==============================] - 0s 11ms/step - loss: 1.4300 - accuracy: 0.5325 - val_loss: 0.9470 - val_accuracy: 0.7315\n",
      "Epoch 7/25\n",
      "27/27 [==============================] - 0s 11ms/step - loss: 1.2940 - accuracy: 0.5762 - val_loss: 0.8581 - val_accuracy: 0.7521\n",
      "Epoch 8/25\n",
      "27/27 [==============================] - 0s 11ms/step - loss: 1.1938 - accuracy: 0.6066 - val_loss: 0.7875 - val_accuracy: 0.7720\n",
      "Epoch 9/25\n",
      "27/27 [==============================] - 0s 11ms/step - loss: 1.1181 - accuracy: 0.6295 - val_loss: 0.7269 - val_accuracy: 0.7908\n",
      "Epoch 10/25\n",
      "27/27 [==============================] - 0s 10ms/step - loss: 1.0409 - accuracy: 0.6543 - val_loss: 0.6664 - val_accuracy: 0.8039\n",
      "Epoch 11/25\n",
      "27/27 [==============================] - 0s 10ms/step - loss: 0.9847 - accuracy: 0.6740 - val_loss: 0.6243 - val_accuracy: 0.8134\n",
      "Epoch 12/25\n",
      "27/27 [==============================] - 0s 10ms/step - loss: 0.9287 - accuracy: 0.6952 - val_loss: 0.5880 - val_accuracy: 0.8274\n",
      "Epoch 13/25\n",
      "27/27 [==============================] - 0s 10ms/step - loss: 0.9066 - accuracy: 0.6990 - val_loss: 0.5625 - val_accuracy: 0.8363\n",
      "Epoch 14/25\n",
      "27/27 [==============================] - 0s 10ms/step - loss: 0.8586 - accuracy: 0.7111 - val_loss: 0.5397 - val_accuracy: 0.8438\n",
      "Epoch 15/25\n",
      "27/27 [==============================] - 0s 10ms/step - loss: 0.8286 - accuracy: 0.7206 - val_loss: 0.5191 - val_accuracy: 0.8479\n",
      "Epoch 16/25\n",
      "27/27 [==============================] - 0s 10ms/step - loss: 0.7954 - accuracy: 0.7362 - val_loss: 0.4974 - val_accuracy: 0.8506\n",
      "Epoch 17/25\n",
      "27/27 [==============================] - 0s 10ms/step - loss: 0.7746 - accuracy: 0.7388 - val_loss: 0.4906 - val_accuracy: 0.8592\n",
      "Epoch 18/25\n",
      "27/27 [==============================] - 0s 10ms/step - loss: 0.7335 - accuracy: 0.7531 - val_loss: 0.4600 - val_accuracy: 0.8690\n",
      "Epoch 19/25\n",
      "27/27 [==============================] - 0s 10ms/step - loss: 0.7203 - accuracy: 0.7552 - val_loss: 0.4561 - val_accuracy: 0.8690\n",
      "Epoch 20/25\n",
      "27/27 [==============================] - 0s 10ms/step - loss: 0.6948 - accuracy: 0.7678 - val_loss: 0.4428 - val_accuracy: 0.8711\n",
      "Epoch 21/25\n",
      "27/27 [==============================] - 0s 10ms/step - loss: 0.6941 - accuracy: 0.7678 - val_loss: 0.4291 - val_accuracy: 0.8783\n",
      "Epoch 22/25\n",
      "27/27 [==============================] - 0s 10ms/step - loss: 0.6682 - accuracy: 0.7757 - val_loss: 0.4238 - val_accuracy: 0.8729\n",
      "Epoch 23/25\n",
      "27/27 [==============================] - 0s 10ms/step - loss: 0.6493 - accuracy: 0.7772 - val_loss: 0.4067 - val_accuracy: 0.8836\n",
      "Epoch 24/25\n",
      "27/27 [==============================] - 0s 10ms/step - loss: 0.6368 - accuracy: 0.7900 - val_loss: 0.3968 - val_accuracy: 0.8824\n",
      "Epoch 25/25\n",
      "27/27 [==============================] - 0s 10ms/step - loss: 0.6114 - accuracy: 0.7928 - val_loss: 0.3849 - val_accuracy: 0.8908\n"
     ]
    }
   ],
   "source": [
    "history = ahcr_model.fit(train_images, train_labels, epochs=25, batch_size=512, validation_data=(test_images, test_labels))"
   ]
  },
  {
   "cell_type": "code",
   "execution_count": 12,
   "id": "c456010b",
   "metadata": {
    "execution": {
     "iopub.execute_input": "2024-01-27T15:11:14.524574Z",
     "iopub.status.busy": "2024-01-27T15:11:14.524248Z",
     "iopub.status.idle": "2024-01-27T15:11:15.501993Z",
     "shell.execute_reply": "2024-01-27T15:11:15.501052Z"
    },
    "id": "9tq82JfF1ax-",
    "outputId": "e6db4d38-8832-4022-d6b4-5af248fd896c",
    "papermill": {
     "duration": 1.01087,
     "end_time": "2024-01-27T15:11:15.504227",
     "exception": false,
     "start_time": "2024-01-27T15:11:14.493357",
     "status": "completed"
    },
    "tags": []
   },
   "outputs": [
    {
     "name": "stdout",
     "output_type": "stream",
     "text": [
      "105/105 [==============================] - 0s 2ms/step - loss: 0.3849 - accuracy: 0.8908\n",
      "Test Accuracy: 0.8907738327980042\n",
      "Test Loss: 0.38490015268325806\n"
     ]
    },
    {
     "data": {
      "image/png": "[encoded data removed]",
      "text/plain": [
       "<Figure size 1200x500 with 2 Axes>"
      ]
     },
     "metadata": {},
     "output_type": "display_data"
    }
   ],
   "source": [
    "# evaluating the test set on the model\n",
    "test_loss, test_accuracy = ahcr_model.evaluate(test_images, test_labels)\n",
    "print(f'Test Accuracy: {test_accuracy}')\n",
    "print(f'Test Loss: {test_loss}')\n",
    "\n",
    "plotAccuracyLossVsEpochs(history=history)"
   ]
  },
  {
   "cell_type": "markdown",
   "id": "e14886ec",
   "metadata": {
    "id": "qIqRgrxdfjgk",
    "papermill": {
     "duration": 0.03003,
     "end_time": "2024-01-27T15:11:15.565397",
     "exception": false,
     "start_time": "2024-01-27T15:11:15.535367",
     "status": "completed"
    },
    "tags": []
   },
   "source": [
    "## **Task 2**\n"
   ]
  },
  {
   "cell_type": "markdown",
   "id": "28fdb26c",
   "metadata": {
    "id": "DRQt7miMfk2x",
    "papermill": {
     "duration": 0.030662,
     "end_time": "2024-01-27T15:11:15.626198",
     "exception": false,
     "start_time": "2024-01-27T15:11:15.595536",
     "status": "completed"
    },
    "tags": []
   },
   "source": [
    "Retrain the network selected from Task 1 after doing data augmentation.\n",
    "Data augmentation is a powerful technique for enhancing the diversity and the size of your training data without the need for additional data collection. By applying various transformations to existing data points, you can train models that generalize better to unseen examples and improve their overall performance.\n",
    "\n",
    "Data augmentation encompasses a wide range of techniques, only a subset of which are suitable for training the AHCR system. In this task, you must select at least three data augmentation techniques that are appropriate and for the model you trained, you need to plot the following:\n",
    "\n",
    "1. Training loss vs. epoch.\n",
    "2. Validation loss vs. epoch.\n",
    "3. Training accuracy vs. epoch.\n",
    "4. Testing accuracy vs. epoch.\n",
    "\n",
    "Compare the results you obtained with the results of Task 1."
   ]
  },
  {
   "cell_type": "code",
   "execution_count": 13,
   "id": "f666b811",
   "metadata": {
    "execution": {
     "iopub.execute_input": "2024-01-27T15:11:15.690080Z",
     "iopub.status.busy": "2024-01-27T15:11:15.689198Z",
     "iopub.status.idle": "2024-01-27T15:11:15.697283Z",
     "shell.execute_reply": "2024-01-27T15:11:15.696409Z"
    },
    "id": "H8L9_y_0fjGr",
    "outputId": "b57b5ee3-1b71-4cb7-8a02-ed6b1b6acf7e",
    "papermill": {
     "duration": 0.041457,
     "end_time": "2024-01-27T15:11:15.699148",
     "exception": false,
     "start_time": "2024-01-27T15:11:15.657691",
     "status": "completed"
    },
    "tags": []
   },
   "outputs": [
    {
     "data": {
      "text/plain": [
       "'datagen = ImageDataGenerator(\\n    rotation_range=20,  # Random rotations\\n    width_shift_range=0.2,  # Horizontal shifts\\n    height_shift_range=0.2,  # Vertical shifts\\n    shear_range=0.2,  # Shearing transformations\\n    zoom_range=0.2  # Zooming\\n) #88.8\\n\\ndatagen = ImageDataGenerator(\\n    rotation_range=5,  # Random rotations in the range of 15 degrees\\n    width_shift_range=0.03,  # Random horizontal shifts in the range of 10% of total width\\n    height_shift_range=0.03,  # Random vertical shifts in the range of 10% of total height\\n    horizontal_flip=True  # Randomly flip images horizontally\\n) #87.9'"
      ]
     },
     "execution_count": 13,
     "metadata": {},
     "output_type": "execute_result"
    }
   ],
   "source": [
    "datagen = ImageDataGenerator(\n",
    "    rotation_range=15,  # Random rotations\n",
    "    width_shift_range=0.15,  # Horizontal shifts\n",
    "    height_shift_range=0.15,  # Vertical shifts\n",
    "    shear_range=0.2,  # Shearing transformations\n",
    "    zoom_range=0.2  # Zooming\n",
    ") #91.7\n",
    "\n",
    "'''datagen = ImageDataGenerator(\n",
    "    rotation_range=20,  # Random rotations\n",
    "    width_shift_range=0.2,  # Horizontal shifts\n",
    "    height_shift_range=0.2,  # Vertical shifts\n",
    "    shear_range=0.2,  # Shearing transformations\n",
    "    zoom_range=0.2  # Zooming\n",
    ") #88.8\n",
    "\n",
    "datagen = ImageDataGenerator(\n",
    "    rotation_range=5,  # Random rotations in the range of 15 degrees\n",
    "    width_shift_range=0.03,  # Random horizontal shifts in the range of 10% of total width\n",
    "    height_shift_range=0.03,  # Random vertical shifts in the range of 10% of total height\n",
    "    horizontal_flip=True  # Randomly flip images horizontally\n",
    ") #87.9'''"
   ]
  },
  {
   "cell_type": "code",
   "execution_count": 14,
   "id": "f113cbe9",
   "metadata": {
    "execution": {
     "iopub.execute_input": "2024-01-27T15:11:15.761049Z",
     "iopub.status.busy": "2024-01-27T15:11:15.760756Z",
     "iopub.status.idle": "2024-01-27T15:13:10.738916Z",
     "shell.execute_reply": "2024-01-27T15:13:10.737905Z"
    },
    "id": "u1QIhgccgcYp",
    "outputId": "d6271996-fabd-48a0-b90a-ced72140e800",
    "papermill": {
     "duration": 115.01177,
     "end_time": "2024-01-27T15:13:10.741102",
     "exception": false,
     "start_time": "2024-01-27T15:11:15.729332",
     "status": "completed"
    },
    "tags": []
   },
   "outputs": [
    {
     "name": "stdout",
     "output_type": "stream",
     "text": [
      "Epoch 1/25\n"
     ]
    },
    {
     "name": "stderr",
     "output_type": "stream",
     "text": [
      "2024-01-27 15:11:16.708770: E tensorflow/core/grappler/optimizers/meta_optimizer.cc:954] layout failed: INVALID_ARGUMENT: Size of values 0 does not match size of permutation 4 @ fanin shape insequential_1/dropout_2/dropout/SelectV2-2-TransposeNHWCToNCHW-LayoutOptimizer\n"
     ]
    },
    {
     "name": "stdout",
     "output_type": "stream",
     "text": [
      "27/27 [==============================] - 6s 165ms/step - loss: 3.2725 - accuracy: 0.0572 - val_loss: 3.0093 - val_accuracy: 0.1667\n",
      "Epoch 2/25\n",
      "27/27 [==============================] - 5s 170ms/step - loss: 3.0990 - accuracy: 0.1092 - val_loss: 2.5950 - val_accuracy: 0.2688\n",
      "Epoch 3/25\n",
      "27/27 [==============================] - 5s 171ms/step - loss: 2.8726 - accuracy: 0.1589 - val_loss: 2.1924 - val_accuracy: 0.4068\n",
      "Epoch 4/25\n",
      "27/27 [==============================] - 4s 164ms/step - loss: 2.6561 - accuracy: 0.2045 - val_loss: 1.8964 - val_accuracy: 0.4976\n",
      "Epoch 5/25\n",
      "27/27 [==============================] - 4s 164ms/step - loss: 2.4375 - accuracy: 0.2575 - val_loss: 1.6327 - val_accuracy: 0.5693\n",
      "Epoch 6/25\n",
      "27/27 [==============================] - 5s 167ms/step - loss: 2.2885 - accuracy: 0.2871 - val_loss: 1.4369 - val_accuracy: 0.6137\n",
      "Epoch 7/25\n",
      "27/27 [==============================] - 4s 165ms/step - loss: 2.1466 - accuracy: 0.3266 - val_loss: 1.2874 - val_accuracy: 0.6497\n",
      "Epoch 8/25\n",
      "27/27 [==============================] - 4s 164ms/step - loss: 2.0275 - accuracy: 0.3512 - val_loss: 1.1795 - val_accuracy: 0.6741\n",
      "Epoch 9/25\n",
      "27/27 [==============================] - 5s 171ms/step - loss: 1.9372 - accuracy: 0.3796 - val_loss: 1.1335 - val_accuracy: 0.6485\n",
      "Epoch 10/25\n",
      "27/27 [==============================] - 4s 162ms/step - loss: 1.8697 - accuracy: 0.3969 - val_loss: 1.0177 - val_accuracy: 0.7042\n",
      "Epoch 11/25\n",
      "27/27 [==============================] - 4s 171ms/step - loss: 1.7914 - accuracy: 0.4213 - val_loss: 0.9612 - val_accuracy: 0.7143\n",
      "Epoch 12/25\n",
      "27/27 [==============================] - 5s 167ms/step - loss: 1.7236 - accuracy: 0.4388 - val_loss: 0.9089 - val_accuracy: 0.7199\n",
      "Epoch 13/25\n",
      "27/27 [==============================] - 5s 168ms/step - loss: 1.6740 - accuracy: 0.4635 - val_loss: 0.8673 - val_accuracy: 0.7345\n",
      "Epoch 14/25\n",
      "27/27 [==============================] - 5s 168ms/step - loss: 1.6463 - accuracy: 0.4660 - val_loss: 0.8643 - val_accuracy: 0.7205\n",
      "Epoch 15/25\n",
      "27/27 [==============================] - 4s 163ms/step - loss: 1.5827 - accuracy: 0.4845 - val_loss: 0.8032 - val_accuracy: 0.7390\n",
      "Epoch 16/25\n",
      "27/27 [==============================] - 5s 168ms/step - loss: 1.5587 - accuracy: 0.4914 - val_loss: 0.7786 - val_accuracy: 0.7476\n",
      "Epoch 17/25\n",
      "27/27 [==============================] - 4s 166ms/step - loss: 1.5325 - accuracy: 0.4991 - val_loss: 0.7474 - val_accuracy: 0.7592\n",
      "Epoch 18/25\n",
      "27/27 [==============================] - 4s 164ms/step - loss: 1.4804 - accuracy: 0.5180 - val_loss: 0.7702 - val_accuracy: 0.7223\n",
      "Epoch 19/25\n",
      "27/27 [==============================] - 4s 162ms/step - loss: 1.4566 - accuracy: 0.5278 - val_loss: 0.6886 - val_accuracy: 0.7717\n",
      "Epoch 20/25\n",
      "27/27 [==============================] - 5s 167ms/step - loss: 1.4564 - accuracy: 0.5205 - val_loss: 0.6729 - val_accuracy: 0.7857\n",
      "Epoch 21/25\n",
      "27/27 [==============================] - 4s 163ms/step - loss: 1.4426 - accuracy: 0.5289 - val_loss: 0.6712 - val_accuracy: 0.7765\n",
      "Epoch 22/25\n",
      "27/27 [==============================] - 4s 161ms/step - loss: 1.3917 - accuracy: 0.5391 - val_loss: 0.6403 - val_accuracy: 0.7792\n",
      "Epoch 23/25\n",
      "27/27 [==============================] - 5s 168ms/step - loss: 1.3986 - accuracy: 0.5440 - val_loss: 0.6359 - val_accuracy: 0.7887\n",
      "Epoch 24/25\n",
      "27/27 [==============================] - 5s 167ms/step - loss: 1.3762 - accuracy: 0.5510 - val_loss: 0.5817 - val_accuracy: 0.8077\n",
      "Epoch 25/25\n",
      "27/27 [==============================] - 5s 167ms/step - loss: 1.3642 - accuracy: 0.5532 - val_loss: 0.6300 - val_accuracy: 0.7902\n"
     ]
    }
   ],
   "source": [
    "ahcr_model_aug = build_ahcr_cnn_model()\n",
    "history_aug = ahcr_model_aug.fit(datagen.flow(train_images, train_labels, batch_size=512), epochs=25, validation_data=(test_images, test_labels))"
   ]
  },
  {
   "cell_type": "code",
   "execution_count": 15,
   "id": "7cd69f68",
   "metadata": {
    "execution": {
     "iopub.execute_input": "2024-01-27T15:13:10.911836Z",
     "iopub.status.busy": "2024-01-27T15:13:10.911480Z",
     "iopub.status.idle": "2024-01-27T15:13:11.686716Z",
     "shell.execute_reply": "2024-01-27T15:13:11.685795Z"
    },
    "id": "jbna9FY5g5_8",
    "outputId": "c007b0d6-b03c-4eb4-ec18-3d87867615ef",
    "papermill": {
     "duration": 0.863693,
     "end_time": "2024-01-27T15:13:11.689637",
     "exception": false,
     "start_time": "2024-01-27T15:13:10.825944",
     "status": "completed"
    },
    "tags": []
   },
   "outputs": [
    {
     "name": "stdout",
     "output_type": "stream",
     "text": [
      "105/105 [==============================] - 0s 2ms/step - loss: 0.6300 - accuracy: 0.7902\n",
      "Test Accuracy: 0.7901785969734192\n",
      "Test Loss: 0.6299681067466736\n"
     ]
    },
    {
     "data": {
      "image/png": "[encoded data removed]",
      "text/plain": [
       "<Figure size 1200x500 with 2 Axes>"
      ]
     },
     "metadata": {},
     "output_type": "display_data"
    }
   ],
   "source": [
    "# evaluating the test set on the model\n",
    "test_loss, test_accuracy = ahcr_model_aug.evaluate(test_images, test_labels)\n",
    "print(f'Test Accuracy: {test_accuracy}')\n",
    "print(f'Test Loss: {test_loss}')\n",
    "\n",
    "plotAccuracyLossVsEpochs(history=history_aug)"
   ]
  },
  {
   "cell_type": "code",
   "execution_count": 16,
   "id": "bc61cea8",
   "metadata": {
    "execution": {
     "iopub.execute_input": "2024-01-27T15:13:11.864341Z",
     "iopub.status.busy": "2024-01-27T15:13:11.863886Z",
     "iopub.status.idle": "2024-01-27T15:20:48.614769Z",
     "shell.execute_reply": "2024-01-27T15:20:48.613641Z"
    },
    "id": "MoeybrRS62ZF",
    "outputId": "2a88c262-ad9f-4a86-c03a-b004f0974c76",
    "papermill": {
     "duration": 456.840446,
     "end_time": "2024-01-27T15:20:48.617147",
     "exception": false,
     "start_time": "2024-01-27T15:13:11.776701",
     "status": "completed"
    },
    "tags": []
   },
   "outputs": [
    {
     "name": "stdout",
     "output_type": "stream",
     "text": [
      "Epoch 1/100\n"
     ]
    },
    {
     "name": "stderr",
     "output_type": "stream",
     "text": [
      "2024-01-27 15:13:12.778493: E tensorflow/core/grappler/optimizers/meta_optimizer.cc:954] layout failed: INVALID_ARGUMENT: Size of values 0 does not match size of permutation 4 @ fanin shape insequential_2/dropout_4/dropout/SelectV2-2-TransposeNHWCToNCHW-LayoutOptimizer\n"
     ]
    },
    {
     "name": "stdout",
     "output_type": "stream",
     "text": [
      "27/27 [==============================] - 6s 165ms/step - loss: 3.2538 - accuracy: 0.0654 - val_loss: 2.9278 - val_accuracy: 0.1768\n",
      "Epoch 2/100\n",
      "27/27 [==============================] - 4s 164ms/step - loss: 3.0761 - accuracy: 0.1073 - val_loss: 2.5938 - val_accuracy: 0.3003\n",
      "Epoch 3/100\n",
      "27/27 [==============================] - 4s 163ms/step - loss: 2.8887 - accuracy: 0.1513 - val_loss: 2.2477 - val_accuracy: 0.4250\n",
      "Epoch 4/100\n",
      "27/27 [==============================] - 4s 166ms/step - loss: 2.6666 - accuracy: 0.1972 - val_loss: 1.8443 - val_accuracy: 0.5188\n",
      "Epoch 5/100\n",
      "27/27 [==============================] - 4s 162ms/step - loss: 2.4390 - accuracy: 0.2513 - val_loss: 1.5889 - val_accuracy: 0.5679\n",
      "Epoch 6/100\n",
      "27/27 [==============================] - 4s 163ms/step - loss: 2.2578 - accuracy: 0.2924 - val_loss: 1.3853 - val_accuracy: 0.6170\n",
      "Epoch 7/100\n",
      "27/27 [==============================] - 4s 162ms/step - loss: 2.0996 - accuracy: 0.3278 - val_loss: 1.2857 - val_accuracy: 0.6438\n",
      "Epoch 8/100\n",
      "27/27 [==============================] - 4s 166ms/step - loss: 2.0022 - accuracy: 0.3513 - val_loss: 1.1565 - val_accuracy: 0.6777\n",
      "Epoch 9/100\n",
      "27/27 [==============================] - 4s 161ms/step - loss: 1.9284 - accuracy: 0.3749 - val_loss: 1.1486 - val_accuracy: 0.6527\n",
      "Epoch 10/100\n",
      "27/27 [==============================] - 4s 171ms/step - loss: 1.8521 - accuracy: 0.3949 - val_loss: 1.0338 - val_accuracy: 0.6958\n",
      "Epoch 11/100\n",
      "27/27 [==============================] - 5s 174ms/step - loss: 1.7639 - accuracy: 0.4172 - val_loss: 0.9882 - val_accuracy: 0.6949\n",
      "Epoch 12/100\n",
      "27/27 [==============================] - 5s 170ms/step - loss: 1.7034 - accuracy: 0.4379 - val_loss: 0.9404 - val_accuracy: 0.7217\n",
      "Epoch 13/100\n",
      "27/27 [==============================] - 5s 169ms/step - loss: 1.6745 - accuracy: 0.4542 - val_loss: 0.8862 - val_accuracy: 0.7280\n",
      "Epoch 14/100\n",
      "27/27 [==============================] - 5s 169ms/step - loss: 1.6226 - accuracy: 0.4681 - val_loss: 0.8205 - val_accuracy: 0.7491\n",
      "Epoch 15/100\n",
      "27/27 [==============================] - 5s 175ms/step - loss: 1.5854 - accuracy: 0.4859 - val_loss: 0.8204 - val_accuracy: 0.7369\n",
      "Epoch 16/100\n",
      "27/27 [==============================] - 5s 169ms/step - loss: 1.5463 - accuracy: 0.4914 - val_loss: 0.7939 - val_accuracy: 0.7452\n",
      "Epoch 17/100\n",
      "27/27 [==============================] - 5s 170ms/step - loss: 1.5080 - accuracy: 0.5063 - val_loss: 0.7904 - val_accuracy: 0.7363\n",
      "Epoch 18/100\n",
      "27/27 [==============================] - 4s 165ms/step - loss: 1.4928 - accuracy: 0.5139 - val_loss: 0.6799 - val_accuracy: 0.7937\n",
      "Epoch 19/100\n",
      "27/27 [==============================] - 5s 169ms/step - loss: 1.4645 - accuracy: 0.5246 - val_loss: 0.6892 - val_accuracy: 0.7815\n",
      "Epoch 20/100\n",
      "27/27 [==============================] - 5s 167ms/step - loss: 1.4277 - accuracy: 0.5268 - val_loss: 0.6953 - val_accuracy: 0.7747\n",
      "Epoch 21/100\n",
      "27/27 [==============================] - 5s 168ms/step - loss: 1.3966 - accuracy: 0.5388 - val_loss: 0.6091 - val_accuracy: 0.8143\n",
      "Epoch 22/100\n",
      "27/27 [==============================] - 5s 168ms/step - loss: 1.3919 - accuracy: 0.5451 - val_loss: 0.6374 - val_accuracy: 0.7970\n",
      "Epoch 23/100\n",
      "27/27 [==============================] - 4s 166ms/step - loss: 1.3571 - accuracy: 0.5551 - val_loss: 0.6786 - val_accuracy: 0.7729\n",
      "Epoch 24/100\n",
      "27/27 [==============================] - 5s 168ms/step - loss: 1.3352 - accuracy: 0.5647 - val_loss: 0.6389 - val_accuracy: 0.7869\n",
      "Epoch 25/100\n",
      "27/27 [==============================] - 4s 166ms/step - loss: 1.3168 - accuracy: 0.5708 - val_loss: 0.5875 - val_accuracy: 0.8095\n",
      "Epoch 26/100\n",
      "27/27 [==============================] - 4s 165ms/step - loss: 1.3183 - accuracy: 0.5667 - val_loss: 0.5976 - val_accuracy: 0.7997\n",
      "Epoch 27/100\n",
      "27/27 [==============================] - 5s 168ms/step - loss: 1.2869 - accuracy: 0.5763 - val_loss: 0.6429 - val_accuracy: 0.7765\n",
      "Epoch 28/100\n",
      "27/27 [==============================] - 5s 167ms/step - loss: 1.2726 - accuracy: 0.5776 - val_loss: 0.5272 - val_accuracy: 0.8271\n",
      "Epoch 29/100\n",
      "27/27 [==============================] - 5s 174ms/step - loss: 1.2625 - accuracy: 0.5882 - val_loss: 0.5005 - val_accuracy: 0.8524\n",
      "Epoch 30/100\n",
      "27/27 [==============================] - 5s 169ms/step - loss: 1.2458 - accuracy: 0.5877 - val_loss: 0.5464 - val_accuracy: 0.8167\n",
      "Epoch 31/100\n",
      "27/27 [==============================] - 5s 169ms/step - loss: 1.2434 - accuracy: 0.5917 - val_loss: 0.5307 - val_accuracy: 0.8262\n",
      "Epoch 32/100\n",
      "27/27 [==============================] - 5s 167ms/step - loss: 1.2242 - accuracy: 0.5932 - val_loss: 0.4705 - val_accuracy: 0.8598\n",
      "Epoch 33/100\n",
      "27/27 [==============================] - 4s 166ms/step - loss: 1.2080 - accuracy: 0.6009 - val_loss: 0.4936 - val_accuracy: 0.8345\n",
      "Epoch 34/100\n",
      "27/27 [==============================] - 5s 171ms/step - loss: 1.2085 - accuracy: 0.6051 - val_loss: 0.4697 - val_accuracy: 0.8470\n",
      "Epoch 35/100\n",
      "27/27 [==============================] - 4s 164ms/step - loss: 1.1831 - accuracy: 0.6087 - val_loss: 0.4578 - val_accuracy: 0.8548\n",
      "Epoch 36/100\n",
      "27/27 [==============================] - 5s 170ms/step - loss: 1.1910 - accuracy: 0.6096 - val_loss: 0.4730 - val_accuracy: 0.8432\n",
      "Epoch 37/100\n",
      "27/27 [==============================] - 5s 171ms/step - loss: 1.1523 - accuracy: 0.6191 - val_loss: 0.4898 - val_accuracy: 0.8307\n",
      "Epoch 38/100\n",
      "27/27 [==============================] - 5s 173ms/step - loss: 1.1503 - accuracy: 0.6292 - val_loss: 0.4379 - val_accuracy: 0.8640\n",
      "Epoch 39/100\n",
      "27/27 [==============================] - 5s 169ms/step - loss: 1.1535 - accuracy: 0.6193 - val_loss: 0.4590 - val_accuracy: 0.8429\n",
      "Epoch 40/100\n",
      "27/27 [==============================] - 5s 169ms/step - loss: 1.1363 - accuracy: 0.6228 - val_loss: 0.4714 - val_accuracy: 0.8411\n",
      "Epoch 41/100\n",
      "27/27 [==============================] - 5s 168ms/step - loss: 1.1241 - accuracy: 0.6292 - val_loss: 0.4567 - val_accuracy: 0.8455\n",
      "Epoch 42/100\n",
      "27/27 [==============================] - 5s 169ms/step - loss: 1.1354 - accuracy: 0.6318 - val_loss: 0.4812 - val_accuracy: 0.8354\n",
      "Epoch 43/100\n",
      "27/27 [==============================] - 5s 168ms/step - loss: 1.1031 - accuracy: 0.6301 - val_loss: 0.4146 - val_accuracy: 0.8661\n",
      "Epoch 44/100\n",
      "27/27 [==============================] - 5s 169ms/step - loss: 1.1247 - accuracy: 0.6312 - val_loss: 0.4235 - val_accuracy: 0.8577\n",
      "Epoch 45/100\n",
      "27/27 [==============================] - 5s 174ms/step - loss: 1.1079 - accuracy: 0.6371 - val_loss: 0.3802 - val_accuracy: 0.8821\n",
      "Epoch 46/100\n",
      "27/27 [==============================] - 4s 166ms/step - loss: 1.1015 - accuracy: 0.6400 - val_loss: 0.4226 - val_accuracy: 0.8586\n",
      "Epoch 47/100\n",
      "27/27 [==============================] - 5s 168ms/step - loss: 1.0889 - accuracy: 0.6409 - val_loss: 0.3959 - val_accuracy: 0.8777\n",
      "Epoch 48/100\n",
      "27/27 [==============================] - 4s 165ms/step - loss: 1.0836 - accuracy: 0.6393 - val_loss: 0.3967 - val_accuracy: 0.8744\n",
      "Epoch 49/100\n",
      "27/27 [==============================] - 5s 175ms/step - loss: 1.0560 - accuracy: 0.6526 - val_loss: 0.4175 - val_accuracy: 0.8595\n",
      "Epoch 50/100\n",
      "27/27 [==============================] - 4s 165ms/step - loss: 1.0612 - accuracy: 0.6511 - val_loss: 0.3823 - val_accuracy: 0.8759\n",
      "Epoch 51/100\n",
      "27/27 [==============================] - 5s 171ms/step - loss: 1.0429 - accuracy: 0.6547 - val_loss: 0.3663 - val_accuracy: 0.8726\n",
      "Epoch 52/100\n",
      "27/27 [==============================] - 5s 167ms/step - loss: 1.0442 - accuracy: 0.6553 - val_loss: 0.3828 - val_accuracy: 0.8667\n",
      "Epoch 53/100\n",
      "27/27 [==============================] - 5s 167ms/step - loss: 1.0297 - accuracy: 0.6560 - val_loss: 0.3515 - val_accuracy: 0.8908\n",
      "Epoch 54/100\n",
      "27/27 [==============================] - 5s 175ms/step - loss: 1.0463 - accuracy: 0.6560 - val_loss: 0.3578 - val_accuracy: 0.8857\n",
      "Epoch 55/100\n",
      "27/27 [==============================] - 5s 168ms/step - loss: 1.0176 - accuracy: 0.6639 - val_loss: 0.3303 - val_accuracy: 0.8994\n",
      "Epoch 56/100\n",
      "27/27 [==============================] - 5s 172ms/step - loss: 1.0357 - accuracy: 0.6571 - val_loss: 0.3755 - val_accuracy: 0.8729\n",
      "Epoch 57/100\n",
      "27/27 [==============================] - 5s 169ms/step - loss: 1.0159 - accuracy: 0.6641 - val_loss: 0.3257 - val_accuracy: 0.9018\n",
      "Epoch 58/100\n",
      "27/27 [==============================] - 5s 174ms/step - loss: 0.9900 - accuracy: 0.6672 - val_loss: 0.3575 - val_accuracy: 0.8804\n",
      "Epoch 59/100\n",
      "27/27 [==============================] - 4s 165ms/step - loss: 0.9916 - accuracy: 0.6756 - val_loss: 0.3239 - val_accuracy: 0.9012\n",
      "Epoch 60/100\n",
      "27/27 [==============================] - 4s 166ms/step - loss: 0.9959 - accuracy: 0.6690 - val_loss: 0.3379 - val_accuracy: 0.8866\n",
      "Epoch 61/100\n",
      "27/27 [==============================] - 4s 165ms/step - loss: 0.9830 - accuracy: 0.6731 - val_loss: 0.3562 - val_accuracy: 0.8789\n",
      "Epoch 62/100\n",
      "27/27 [==============================] - 4s 169ms/step - loss: 0.9818 - accuracy: 0.6796 - val_loss: 0.3286 - val_accuracy: 0.8887\n",
      "Epoch 63/100\n",
      "27/27 [==============================] - 5s 171ms/step - loss: 0.9831 - accuracy: 0.6768 - val_loss: 0.3198 - val_accuracy: 0.8991\n",
      "Epoch 64/100\n",
      "27/27 [==============================] - 4s 166ms/step - loss: 0.9708 - accuracy: 0.6767 - val_loss: 0.3320 - val_accuracy: 0.8866\n",
      "Epoch 65/100\n",
      "27/27 [==============================] - 5s 174ms/step - loss: 0.9699 - accuracy: 0.6853 - val_loss: 0.3049 - val_accuracy: 0.9065\n",
      "Epoch 66/100\n",
      "27/27 [==============================] - 5s 167ms/step - loss: 0.9610 - accuracy: 0.6805 - val_loss: 0.3093 - val_accuracy: 0.9006\n",
      "Epoch 67/100\n",
      "27/27 [==============================] - 5s 170ms/step - loss: 0.9607 - accuracy: 0.6818 - val_loss: 0.3066 - val_accuracy: 0.9006\n",
      "Epoch 68/100\n",
      "27/27 [==============================] - 5s 170ms/step - loss: 0.9339 - accuracy: 0.6871 - val_loss: 0.2978 - val_accuracy: 0.9098\n",
      "Epoch 69/100\n",
      "27/27 [==============================] - 5s 169ms/step - loss: 0.9469 - accuracy: 0.6892 - val_loss: 0.3030 - val_accuracy: 0.9006\n",
      "Epoch 70/100\n",
      "27/27 [==============================] - 5s 171ms/step - loss: 0.9520 - accuracy: 0.6870 - val_loss: 0.3222 - val_accuracy: 0.8893\n",
      "Epoch 71/100\n",
      "27/27 [==============================] - 5s 172ms/step - loss: 0.9408 - accuracy: 0.6897 - val_loss: 0.2945 - val_accuracy: 0.9021\n",
      "Epoch 72/100\n",
      "27/27 [==============================] - 5s 168ms/step - loss: 0.9341 - accuracy: 0.6883 - val_loss: 0.3014 - val_accuracy: 0.9012\n",
      "Epoch 73/100\n",
      "27/27 [==============================] - 4s 164ms/step - loss: 0.9238 - accuracy: 0.6968 - val_loss: 0.2847 - val_accuracy: 0.9143\n",
      "Epoch 74/100\n",
      "27/27 [==============================] - 4s 166ms/step - loss: 0.9413 - accuracy: 0.6885 - val_loss: 0.2913 - val_accuracy: 0.9092\n",
      "Epoch 75/100\n",
      "27/27 [==============================] - 5s 167ms/step - loss: 0.9166 - accuracy: 0.6992 - val_loss: 0.3063 - val_accuracy: 0.8935\n",
      "Epoch 76/100\n",
      "27/27 [==============================] - 5s 168ms/step - loss: 0.9216 - accuracy: 0.6988 - val_loss: 0.2807 - val_accuracy: 0.9122\n",
      "Epoch 77/100\n",
      "27/27 [==============================] - 5s 169ms/step - loss: 0.9127 - accuracy: 0.6992 - val_loss: 0.2776 - val_accuracy: 0.9167\n",
      "Epoch 78/100\n",
      "27/27 [==============================] - 5s 170ms/step - loss: 0.9235 - accuracy: 0.6981 - val_loss: 0.2932 - val_accuracy: 0.8988\n",
      "Epoch 79/100\n",
      "27/27 [==============================] - 5s 169ms/step - loss: 0.9114 - accuracy: 0.6985 - val_loss: 0.2943 - val_accuracy: 0.8976\n",
      "Epoch 80/100\n",
      "27/27 [==============================] - 5s 170ms/step - loss: 0.9138 - accuracy: 0.6938 - val_loss: 0.3190 - val_accuracy: 0.8839\n",
      "Epoch 81/100\n",
      "27/27 [==============================] - 5s 170ms/step - loss: 0.9033 - accuracy: 0.7015 - val_loss: 0.2802 - val_accuracy: 0.9134\n",
      "Epoch 82/100\n",
      "27/27 [==============================] - 5s 169ms/step - loss: 0.8933 - accuracy: 0.7066 - val_loss: 0.3031 - val_accuracy: 0.8976\n",
      "Epoch 83/100\n",
      "27/27 [==============================] - 4s 165ms/step - loss: 0.9000 - accuracy: 0.7019 - val_loss: 0.2776 - val_accuracy: 0.9110\n",
      "Epoch 84/100\n",
      "27/27 [==============================] - 5s 169ms/step - loss: 0.8728 - accuracy: 0.7115 - val_loss: 0.2705 - val_accuracy: 0.9185\n",
      "Epoch 85/100\n",
      "27/27 [==============================] - 5s 168ms/step - loss: 0.8726 - accuracy: 0.7103 - val_loss: 0.2788 - val_accuracy: 0.9134\n",
      "Epoch 86/100\n",
      "27/27 [==============================] - 4s 163ms/step - loss: 0.8824 - accuracy: 0.7097 - val_loss: 0.3015 - val_accuracy: 0.8958\n",
      "Epoch 87/100\n",
      "27/27 [==============================] - 4s 165ms/step - loss: 0.8812 - accuracy: 0.7077 - val_loss: 0.2846 - val_accuracy: 0.9065\n",
      "Epoch 88/100\n",
      "27/27 [==============================] - 4s 165ms/step - loss: 0.8640 - accuracy: 0.7157 - val_loss: 0.2779 - val_accuracy: 0.9083\n",
      "Epoch 89/100\n",
      "27/27 [==============================] - 4s 165ms/step - loss: 0.8485 - accuracy: 0.7190 - val_loss: 0.2771 - val_accuracy: 0.9051\n",
      "Epoch 90/100\n",
      "27/27 [==============================] - 4s 166ms/step - loss: 0.8592 - accuracy: 0.7171 - val_loss: 0.2770 - val_accuracy: 0.9116\n",
      "Epoch 91/100\n",
      "27/27 [==============================] - 5s 174ms/step - loss: 0.8770 - accuracy: 0.7114 - val_loss: 0.2572 - val_accuracy: 0.9256\n",
      "Epoch 92/100\n",
      "27/27 [==============================] - 5s 171ms/step - loss: 0.8766 - accuracy: 0.7086 - val_loss: 0.2558 - val_accuracy: 0.9226\n",
      "Epoch 93/100\n",
      "27/27 [==============================] - 5s 170ms/step - loss: 0.8624 - accuracy: 0.7120 - val_loss: 0.2714 - val_accuracy: 0.9042\n",
      "Epoch 94/100\n",
      "27/27 [==============================] - 5s 168ms/step - loss: 0.8600 - accuracy: 0.7190 - val_loss: 0.2883 - val_accuracy: 0.9009\n",
      "Epoch 95/100\n",
      "27/27 [==============================] - 5s 167ms/step - loss: 0.8936 - accuracy: 0.7042 - val_loss: 0.2668 - val_accuracy: 0.9167\n",
      "Epoch 96/100\n",
      "27/27 [==============================] - 4s 166ms/step - loss: 0.8448 - accuracy: 0.7210 - val_loss: 0.2716 - val_accuracy: 0.9060\n",
      "Epoch 97/100\n",
      "27/27 [==============================] - 4s 165ms/step - loss: 0.8419 - accuracy: 0.7163 - val_loss: 0.2416 - val_accuracy: 0.9289\n",
      "Epoch 98/100\n",
      "27/27 [==============================] - 5s 171ms/step - loss: 0.8496 - accuracy: 0.7240 - val_loss: 0.2609 - val_accuracy: 0.9149\n",
      "Epoch 99/100\n",
      "27/27 [==============================] - 5s 171ms/step - loss: 0.8416 - accuracy: 0.7225 - val_loss: 0.2387 - val_accuracy: 0.9262\n",
      "Epoch 100/100\n",
      "27/27 [==============================] - 5s 167ms/step - loss: 0.8393 - accuracy: 0.7227 - val_loss: 0.2605 - val_accuracy: 0.9202\n"
     ]
    }
   ],
   "source": [
    "ahcr_model_aug = build_ahcr_cnn_model()\n",
    "history_aug = ahcr_model_aug.fit(datagen.flow(train_images, train_labels, batch_size=512), epochs=100, validation_data=(test_images, test_labels))"
   ]
  },
  {
   "cell_type": "code",
   "execution_count": 17,
   "id": "6071f59c",
   "metadata": {
    "execution": {
     "iopub.execute_input": "2024-01-27T15:20:49.251502Z",
     "iopub.status.busy": "2024-01-27T15:20:49.251143Z",
     "iopub.status.idle": "2024-01-27T15:20:49.995856Z",
     "shell.execute_reply": "2024-01-27T15:20:49.994956Z"
    },
    "id": "yDLv2bCm65OQ",
    "outputId": "109533b6-1dff-4f0e-c81e-4550cae796f8",
    "papermill": {
     "duration": 1.058106,
     "end_time": "2024-01-27T15:20:49.998172",
     "exception": false,
     "start_time": "2024-01-27T15:20:48.940066",
     "status": "completed"
    },
    "tags": []
   },
   "outputs": [
    {
     "name": "stdout",
     "output_type": "stream",
     "text": [
      "105/105 [==============================] - 0s 2ms/step - loss: 0.2605 - accuracy: 0.9202\n",
      "Test Accuracy: 0.9202380776405334\n",
      "Test Loss: 0.26054513454437256\n"
     ]
    },
    {
     "data": {
      "image/png": "[encoded data removed]",
      "text/plain": [
       "<Figure size 1200x500 with 2 Axes>"
      ]
     },
     "metadata": {},
     "output_type": "display_data"
    }
   ],
   "source": [
    "# evaluating the test set on the model\n",
    "test_loss, test_accuracy = ahcr_model_aug.evaluate(test_images, test_labels)\n",
    "print(f'Test Accuracy: {test_accuracy}')\n",
    "print(f'Test Loss: {test_loss}')\n",
    "\n",
    "plotAccuracyLossVsEpochs(history=history_aug)"
   ]
  },
  {
   "cell_type": "markdown",
   "id": "0bd3639a",
   "metadata": {
    "id": "CQwh-b_Pu4dq",
    "papermill": {
     "duration": 0.311893,
     "end_time": "2024-01-27T15:20:50.620962",
     "exception": false,
     "start_time": "2024-01-27T15:20:50.309069",
     "status": "completed"
    },
    "tags": []
   },
   "source": [
    "## **Task 3**"
   ]
  },
  {
   "cell_type": "markdown",
   "id": "e671abd2",
   "metadata": {
    "id": "JaI7c6p-vCIR",
    "papermill": {
     "duration": 0.362831,
     "end_time": "2024-01-27T15:20:51.296523",
     "exception": false,
     "start_time": "2024-01-27T15:20:50.933692",
     "status": "completed"
    },
    "tags": []
   },
   "source": [
    "LeNet: One of the earliest convolutional neural networks, LeNet was designed mainly for handwritten and machine-printed character recognition. It's relatively small and simple, which makes it fast to train. However, it may not perform as well on more complex image recognition tasks compared to more modern architectures.\n",
    "\n",
    "AlexNet: This model is significantly larger and more complex than LeNet. It was the first to use ReLU (Rectified Linear Units) for the nonlinear layers and performed exceptionally well in the ImageNet competition. AlexNet is more suitable for datasets that are more complex than those LeNet can handle, but it requires more computational power.\n",
    "\n",
    "ResNet (Residual Network): Known for its \"skip connections\" or \"shortcut connections,\" ResNet allows the training of very deep networks by addressing the vanishing gradient problem. It's much deeper than AlexNet and is currently one of the best performing models for a wide range of image recognition tasks. It's particularly beneficial for very deep networks and can handle a wide range of complex tasks. However, it requires significant computational resources.\n",
    "\n",
    "Which One to Choose?\n",
    "Task Complexity: For simple tasks or small datasets, LeNet can be sufficient. For medium complexity tasks, AlexNet is more suitable. For very complex tasks, ResNet is generally the best choice.\n",
    "\n",
    "Computational Resources: LeNet and AlexNet are less demanding in terms of computational resources, while ResNet requires more substantial computing power, especially for deeper variants like ResNet-50 or ResNet-101.\n",
    "\n",
    "Training Time: LeNet will train the fastest, followed by AlexNet. ResNet's training time is considerably longer due to its depth and complexity.\n",
    "\n",
    "Performance: Generally, ResNet outperforms AlexNet, and AlexNet outperforms LeNet on complex image classification tasks."
   ]
  },
  {
   "cell_type": "code",
   "execution_count": null,
   "id": "5bac8a82",
   "metadata": {
    "id": "W4TiqJhtfU6U",
    "papermill": {
     "duration": 0.314369,
     "end_time": "2024-01-27T15:20:51.923007",
     "exception": false,
     "start_time": "2024-01-27T15:20:51.608638",
     "status": "completed"
    },
    "tags": []
   },
   "outputs": [],
   "source": []
  },
  {
   "cell_type": "markdown",
   "id": "5b7f93ce",
   "metadata": {
    "id": "rjs8bmtmdgqB",
    "papermill": {
     "duration": 0.310566,
     "end_time": "2024-01-27T15:20:52.545173",
     "exception": false,
     "start_time": "2024-01-27T15:20:52.234607",
     "status": "completed"
    },
    "tags": []
   },
   "source": [
    "Define CNN architecture"
   ]
  },
  {
   "cell_type": "code",
   "execution_count": null,
   "id": "9e386cd2",
   "metadata": {
    "execution": {
     "iopub.execute_input": "2024-01-27T14:51:08.980289Z",
     "iopub.status.busy": "2024-01-27T14:51:08.979973Z",
     "iopub.status.idle": "2024-01-27T14:51:08.990063Z",
     "shell.execute_reply": "2024-01-27T14:51:08.989106Z",
     "shell.execute_reply.started": "2024-01-27T14:51:08.980263Z"
    },
    "id": "NLlOqmGBdZf-",
    "papermill": {
     "duration": 0.310011,
     "end_time": "2024-01-27T15:20:53.168584",
     "exception": false,
     "start_time": "2024-01-27T15:20:52.858573",
     "status": "completed"
    },
    "tags": []
   },
   "outputs": [],
   "source": []
  },
  {
   "cell_type": "markdown",
   "id": "91fe8936",
   "metadata": {
    "id": "_GTiLhvadpHm",
    "papermill": {
     "duration": 0.362886,
     "end_time": "2024-01-27T15:20:53.841571",
     "exception": false,
     "start_time": "2024-01-27T15:20:53.478685",
     "status": "completed"
    },
    "tags": []
   },
   "source": [
    "Create and compile the model"
   ]
  },
  {
   "cell_type": "code",
   "execution_count": null,
   "id": "777252f1",
   "metadata": {
    "execution": {
     "iopub.execute_input": "2024-01-27T14:51:08.991491Z",
     "iopub.status.busy": "2024-01-27T14:51:08.991196Z",
     "iopub.status.idle": "2024-01-27T14:51:09.091172Z",
     "shell.execute_reply": "2024-01-27T14:51:09.090380Z",
     "shell.execute_reply.started": "2024-01-27T14:51:08.991466Z"
    },
    "id": "A5RlDDILdsyr",
    "outputId": "cc1c6147-beb0-4f2d-edd2-70c80ed136a9",
    "papermill": {
     "duration": 0.310876,
     "end_time": "2024-01-27T15:20:54.462238",
     "exception": false,
     "start_time": "2024-01-27T15:20:54.151362",
     "status": "completed"
    },
    "tags": []
   },
   "outputs": [],
   "source": []
  },
  {
   "cell_type": "markdown",
   "id": "f5888486",
   "metadata": {
    "id": "uw-bXe1Bd2tW",
    "papermill": {
     "duration": 0.310815,
     "end_time": "2024-01-27T15:20:55.083146",
     "exception": false,
     "start_time": "2024-01-27T15:20:54.772331",
     "status": "completed"
    },
    "tags": []
   },
   "source": [
    "Train the model"
   ]
  },
  {
   "cell_type": "code",
   "execution_count": null,
   "id": "70479e90",
   "metadata": {
    "execution": {
     "iopub.execute_input": "2024-01-27T14:51:09.093122Z",
     "iopub.status.busy": "2024-01-27T14:51:09.092505Z",
     "iopub.status.idle": "2024-01-27T14:55:53.411112Z",
     "shell.execute_reply": "2024-01-27T14:55:53.410334Z",
     "shell.execute_reply.started": "2024-01-27T14:51:09.093086Z"
    },
    "id": "nPXcVfLzd496",
    "outputId": "4122c8a9-392c-4c5f-bb19-c0f634dda90d",
    "papermill": {
     "duration": 0.306994,
     "end_time": "2024-01-27T15:20:55.697735",
     "exception": false,
     "start_time": "2024-01-27T15:20:55.390741",
     "status": "completed"
    },
    "tags": []
   },
   "outputs": [],
   "source": []
  },
  {
   "cell_type": "markdown",
   "id": "32659846",
   "metadata": {
    "id": "H16gAv4-d9DO",
    "papermill": {
     "duration": 0.31343,
     "end_time": "2024-01-27T15:20:56.322258",
     "exception": false,
     "start_time": "2024-01-27T15:20:56.008828",
     "status": "completed"
    },
    "tags": []
   },
   "source": [
    "Plot and print the result"
   ]
  },
  {
   "cell_type": "code",
   "execution_count": null,
   "id": "8d05a6aa",
   "metadata": {
    "execution": {
     "iopub.execute_input": "2024-01-27T14:55:53.413131Z",
     "iopub.status.busy": "2024-01-27T14:55:53.412511Z",
     "iopub.status.idle": "2024-01-27T14:55:54.198561Z",
     "shell.execute_reply": "2024-01-27T14:55:54.197656Z",
     "shell.execute_reply.started": "2024-01-27T14:55:53.413095Z"
    },
    "id": "sZTsxDfbd8l7",
    "outputId": "596fcf1c-6250-4033-b865-c938fecfd883",
    "papermill": {
     "duration": 0.313373,
     "end_time": "2024-01-27T15:20:57.015025",
     "exception": false,
     "start_time": "2024-01-27T15:20:56.701652",
     "status": "completed"
    },
    "tags": []
   },
   "outputs": [],
   "source": []
  },
  {
   "cell_type": "markdown",
   "id": "a0167d53",
   "metadata": {
    "id": "9oXjbYM10f7u",
    "papermill": {
     "duration": 0.30768,
     "end_time": "2024-01-27T15:20:57.631458",
     "exception": false,
     "start_time": "2024-01-27T15:20:57.323778",
     "status": "completed"
    },
    "tags": []
   },
   "source": [
    "# **Conclusion**"
   ]
  }
 ],
 "metadata": {
  "colab": {
   "provenance": []
  },
  "kaggle": {
   "accelerator": "gpu",
   "dataSources": [],
   "dockerImageVersionId": 30636,
   "isGpuEnabled": true,
   "isInternetEnabled": true,
   "language": "python",
   "sourceType": "notebook"
  },
  "kernelspec": {
   "display_name": "Python 3",
   "language": "python",
   "name": "python3"
  },
  "language_info": {
   "codemirror_mode": {
    "name": "ipython",
    "version": 3
   },
   "file_extension": ".py",
   "mimetype": "text/x-python",
   "name": "python",
   "nbconvert_exporter": "python",
   "pygments_lexer": "ipython3",
   "version": "3.10.12"
  },
  "papermill": {
   "default_parameters": {},
   "duration": 682.925752,
   "end_time": "2024-01-27T15:21:01.013592",
   "environment_variables": {},
   "exception": null,
   "input_path": "__notebook__.ipynb",
   "output_path": "__notebook__.ipynb",
   "parameters": {},
   "start_time": "2024-01-27T15:09:38.087840",
   "version": "2.4.0"
  }
 },
 "nbformat": 4,
 "nbformat_minor": 5
}
